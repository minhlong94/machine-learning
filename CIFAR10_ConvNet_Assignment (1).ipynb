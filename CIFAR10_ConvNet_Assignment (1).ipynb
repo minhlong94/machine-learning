{
  "nbformat": 4,
  "nbformat_minor": 0,
  "metadata": {
    "colab": {
      "name": "CIFAR10_ConvNet_Assignment",
      "provenance": [],
      "collapsed_sections": []
    },
    "kernelspec": {
      "name": "python3",
      "display_name": "Python 3"
    },
    "accelerator": "GPU"
  },
  "cells": [
    {
      "cell_type": "markdown",
      "metadata": {
        "id": "wP6mY7MO1Vpq",
        "colab_type": "text"
      },
      "source": [
        "# Assignment: Use CNN to do image classification\n",
        "Author: Long M. Luu"
      ]
    },
    {
      "cell_type": "code",
      "metadata": {
        "id": "Aiply-Q8gE4m",
        "colab_type": "code",
        "colab": {}
      },
      "source": [
        "%%capture\n",
        "!pip install tensorflow --upgrade\n",
        "# Upgrade tensorflow from 2.2 to 2.3"
      ],
      "execution_count": null,
      "outputs": []
    },
    {
      "cell_type": "code",
      "metadata": {
        "id": "t5Z946qyBUat",
        "colab_type": "code",
        "colab": {}
      },
      "source": [
        "# Load dataset CIFAR 10, source: https://www.cs.toronto.edu/~kriz/cifar.html\n",
        "import tensorflow as tf\n",
        "\n",
        "(x_train, y_train), (x_test, y_test) = tf.keras.datasets.cifar10.load_data()"
      ],
      "execution_count": null,
      "outputs": []
    },
    {
      "cell_type": "code",
      "metadata": {
        "id": "mn8y0fPlDKYO",
        "colab_type": "code",
        "colab": {}
      },
      "source": [
        "# Classes of CIFAR 10\n",
        "classes = [\"airplane\", \"automobile\", \"bird\", \"cat\", \"deer\", \"dog\", \"frog\", \"horse\", \"ship\", \"truck\"]"
      ],
      "execution_count": null,
      "outputs": []
    },
    {
      "cell_type": "code",
      "metadata": {
        "id": "BkIjRjZ6Bly1",
        "colab_type": "code",
        "colab": {}
      },
      "source": [
        "# Show the image with the corresponding label\n",
        "import matplotlib.pyplot as plt\n",
        "\n",
        "plt.figure(figsize=(10,10))\n",
        "for i in range(36): # Plot 36 images\n",
        "    plt.subplot(6,6,i+1)\n",
        "    plt.xticks([])\n",
        "    plt.yticks([])\n",
        "    plt.grid(False)\n",
        "    # START CODE HERE\n",
        "    plt.imshow(x_train[i], cmap=plt.cm.binary) \n",
        "    plt.xlabel(classes[y_train[i][0]])\n",
        "    # END CODE HERE\n",
        "plt.show()"
      ],
      "execution_count": null,
      "outputs": []
    },
    {
      "cell_type": "code",
      "metadata": {
        "id": "uqq5NEr0Bnta",
        "colab_type": "code",
        "colab": {}
      },
      "source": [
        "# Split dataset into train and valid\n",
        "from sklearn.model_selection import train_test_split\n",
        "X_train, X_valid, Y_train, Y_valid = train_test_split(x_train/255.0, y_train, test_size=0.2, shuffle=True, random_state=42)"
      ],
      "execution_count": null,
      "outputs": []
    },
    {
      "cell_type": "code",
      "metadata": {
        "id": "FYtNCps-CsW3",
        "colab_type": "code",
        "colab": {}
      },
      "source": [
        "# Check shape\n",
        "print(X_train.shape)\n",
        "print(X_valid.shape)\n",
        "print(Y_train.shape)\n",
        "print(Y_valid.shape)\n",
        "print(x_test.shape)\n",
        "print(y_test.shape)"
      ],
      "execution_count": null,
      "outputs": []
    },
    {
      "cell_type": "code",
      "metadata": {
        "id": "ZeSqOS-cEUJk",
        "colab_type": "code",
        "colab": {}
      },
      "source": [
        "# Normalize test data\n",
        "x_test = x_test / 255.0"
      ],
      "execution_count": null,
      "outputs": []
    },
    {
      "cell_type": "code",
      "metadata": {
        "id": "QmrAegvaCwk9",
        "colab_type": "code",
        "colab": {}
      },
      "source": [
        "\"\"\"\n",
        "TODO 1: Create Feedforward model as follows (suggested):\n",
        "Flatten()\n",
        "First layer: 1024, activation tanh, input_shape=(32, 32, 3)\n",
        "Dropout layer: 0.42\n",
        "Second layer: 512, activation tanh\n",
        "Dropout layer: 0.42\n",
        "Third layer: 256, activation tanh\n",
        "Fourth layer: 10, activation softmax\n",
        "\"\"\"\n",
        "from tensorflow.keras.layers import Flatten, Dense, Dropout\n",
        "def create_fnn_model():\n",
        "    # START CODE HERE\n",
        "    model = None\n",
        "    # END CODE HERE\n",
        "    model.compile(loss=\"sparse_categorical_crossentropy\", optimizer=\"adam\", metrics=[\"accuracy\"])\n",
        "    return model\n",
        "\n",
        "fnn_model = create_fnn_model()\n",
        "fnn_model.summary()"
      ],
      "execution_count": null,
      "outputs": []
    },
    {
      "cell_type": "code",
      "metadata": {
        "id": "VRG7CziTVXmw",
        "colab_type": "code",
        "colab": {}
      },
      "source": [
        "epochs=50\n",
        "\"\"\"\n",
        "Early Stopping callback\n",
        "monitor: metrics that the Callback will watch\n",
        "patience: integer, after n epochs if the monitor value does not improve, stop training\n",
        "restore_best_weights: boolean, restore weights when monitor value is highest\n",
        "\"\"\"\n",
        "early_stop = tf.keras.callbacks.EarlyStopping(monitor=\"val_loss\", patience=epochs//5, restore_best_weights=True)"
      ],
      "execution_count": null,
      "outputs": []
    },
    {
      "cell_type": "code",
      "metadata": {
        "id": "a6dlsHq7EIHB",
        "colab_type": "code",
        "colab": {}
      },
      "source": [
        "# Train the model\n",
        "fnn_model.fit(X_train, Y_train, epochs=20, batch_size=32, validation_data=(X_valid, Y_valid), callbacks=[early_stop])"
      ],
      "execution_count": null,
      "outputs": []
    },
    {
      "cell_type": "code",
      "metadata": {
        "id": "zMSKeWITeTSN",
        "colab_type": "code",
        "colab": {}
      },
      "source": [
        "# Evaluate the model\n",
        "fnn_model.evaluate(x_test, y_test)"
      ],
      "execution_count": null,
      "outputs": []
    },
    {
      "cell_type": "markdown",
      "metadata": {
        "id": "yzXuKwwQeirG",
        "colab_type": "text"
      },
      "source": [
        "### It is clear that even with a lot of parameters, FNN cannot perform well (accuracy is pretty low), let's try CNN"
      ]
    },
    {
      "cell_type": "code",
      "metadata": {
        "id": "fEv5AQXJEXXG",
        "colab_type": "code",
        "colab": {}
      },
      "source": [
        "\"\"\"\n",
        "TODO 2: create a CNN model as follows:\n",
        "Conv2D, 32 filters, kernel size (5, 5), input shape = (32, 32, 3), same padding\n",
        "BatchNorm\n",
        "Activation: relu\n",
        "MaxPooling2D, same padding\n",
        "Conv2D, 64 filters, kernel size (5, 5), same padding\n",
        "BatchNorm\n",
        "Activation: relu\n",
        "MaxPooling2D, same padding\n",
        "Dropout 0.42\n",
        "Conv2D, 128 filters, kernel size (3, 3), valid padding\n",
        "BatchNorm\n",
        "MaxPooling2D, same padding\n",
        "Flatten\n",
        "Dropout, rate 0.42\n",
        "Dense, 256 nodes, activation tanh\n",
        "Dense, 128 nodes, activation tanh\n",
        "Dense, 10 nodes, activation softmax\n",
        "\"\"\"\n",
        "from tensorflow.keras.layers import Conv2D, BatchNormalization, MaxPooling2D, Dense, Dropout, Flatten, Activation\n",
        "\n",
        "def create_cnn_model():\n",
        "    model = None\n",
        "    model.compile(loss=\"sparse_categorical_crossentropy\", optimizer=\"adam\", metrics=[\"accuracy\"])\n",
        "    return model\n",
        "\n",
        "cnn_model = create_cnn_model()\n",
        "cnn_model.summary()"
      ],
      "execution_count": null,
      "outputs": []
    },
    {
      "cell_type": "code",
      "metadata": {
        "id": "O2hAMUQJHtfF",
        "colab_type": "code",
        "colab": {}
      },
      "source": [
        "# Train the model, recall that epochs = 50\n",
        "history = cnn_model.fit(X_train, Y_train, batch_size=32, epochs=epochs, \n",
        "                        validation_data=(X_valid, Y_valid), callbacks=[early_stop])"
      ],
      "execution_count": null,
      "outputs": []
    },
    {
      "cell_type": "code",
      "metadata": {
        "id": "ongblS11Jx7e",
        "colab_type": "code",
        "colab": {}
      },
      "source": [
        "# Plot accuracy vs epoch\n",
        "plt.plot(history.history['accuracy'])\n",
        "plt.plot(history.history['val_accuracy'])\n",
        "plt.title('Model accuracy')\n",
        "plt.ylabel('Accuracy')\n",
        "plt.xlabel('Epoch')\n",
        "plt.legend(['train', 'val'], loc='upper left')"
      ],
      "execution_count": null,
      "outputs": []
    },
    {
      "cell_type": "code",
      "metadata": {
        "id": "Dom9Vm_jNzSV",
        "colab_type": "code",
        "colab": {}
      },
      "source": [
        "# Plot loss vs epoch\n",
        "plt.plot(history.history['loss'])\n",
        "plt.plot(history.history['val_loss'])\n",
        "plt.title('Model loss')\n",
        "plt.ylabel('Loss')\n",
        "plt.xlabel('Epoch')\n",
        "plt.legend(['train', 'val'], loc='upper left')"
      ],
      "execution_count": null,
      "outputs": []
    },
    {
      "cell_type": "code",
      "metadata": {
        "id": "FTTkbVrbN0-A",
        "colab_type": "code",
        "colab": {}
      },
      "source": [
        "# Evaluate the model\n",
        "# Global result: https://paperswithcode.com/sota/image-classification-on-cifar-10\n",
        "eval = cnn_model.evaluate(x_test, y_test)"
      ],
      "execution_count": null,
      "outputs": []
    },
    {
      "cell_type": "markdown",
      "metadata": {
        "id": "aSZNU7cvezAH",
        "colab_type": "text"
      },
      "source": [
        "CNN with less paramters (but longer training time), performs a lot better than FNN. Let's see the wrong predictions"
      ]
    },
    {
      "cell_type": "code",
      "metadata": {
        "id": "lqauvL3-N4eK",
        "colab_type": "code",
        "colab": {}
      },
      "source": [
        "import numpy as np\n",
        "\n",
        "prediction = cnn_model.predict(x_test)\n",
        "label_prediction = np.argmax(prediction, axis=-1)"
      ],
      "execution_count": null,
      "outputs": []
    },
    {
      "cell_type": "code",
      "metadata": {
        "id": "SgAghSvAOFXq",
        "colab_type": "code",
        "colab": {}
      },
      "source": [
        "# Plot some predictions\n",
        "plt.figure(figsize=(20,20))\n",
        "for i in range(100):\n",
        "    plt.subplot(10,10,i+1)\n",
        "    plt.xticks([])\n",
        "    plt.yticks([])\n",
        "    plt.grid(False)\n",
        "    plt.imshow(x_test[i], cmap=plt.cm.binary)\n",
        "    plt.xlabel('True: {}, Pred: {}'.format(y_test[i], label_prediction[i]))\n",
        "plt.show()"
      ],
      "execution_count": null,
      "outputs": []
    },
    {
      "cell_type": "code",
      "metadata": {
        "id": "O7eomk2qOHd5",
        "colab_type": "code",
        "colab": {}
      },
      "source": [
        "# Get index of wrong answers\n",
        "wrongAns = []\n",
        "for i in range(len(y_test)):\n",
        "  if y_test[i][0] != label_prediction[i]:\n",
        "    wrongAns.append(i)\n",
        "len(wrongAns)"
      ],
      "execution_count": null,
      "outputs": []
    },
    {
      "cell_type": "markdown",
      "metadata": {
        "id": "tX6g8QZMb_eZ",
        "colab_type": "text"
      },
      "source": [
        "## Recall that `classes = [\"airplane\", \"automobile\", \"bird\", \"cat\", \"deer\", \"dog\", \"frog\", \"horse\", \"ship\", \"truck\"]`"
      ]
    },
    {
      "cell_type": "code",
      "metadata": {
        "id": "o5bPeCocOI8U",
        "colab_type": "code",
        "colab": {}
      },
      "source": [
        "# Plot wrong answers\n",
        "plt.figure(figsize=(25,25))\n",
        "for i in range(49):\n",
        "    plt.subplot(7,7,i+1)\n",
        "    plt.xticks([])\n",
        "    plt.yticks([])\n",
        "    plt.grid(False)\n",
        "    plt.imshow(x_test[wrongAns[i]], cmap=plt.cm.binary)\n",
        "    plt.xlabel('True: {}, Pred: {}'.format(y_test[wrongAns[i]], label_prediction[wrongAns[i]]))\n",
        "plt.show()"
      ],
      "execution_count": null,
      "outputs": []
    },
    {
      "cell_type": "markdown",
      "metadata": {
        "id": "vQM-YYcme6fw",
        "colab_type": "text"
      },
      "source": [
        "Transfer learning  \n",
        "The purpose is to take a pretrained model and run it with our data"
      ]
    },
    {
      "cell_type": "code",
      "metadata": {
        "id": "gUf82B1JfAvC",
        "colab_type": "code",
        "colab": {}
      },
      "source": [
        "def lrfn(epoch):\n",
        "    \"\"\"\n",
        "    Learning rate callback, to maintain good lr but do not destroy the pretrained work\n",
        "\n",
        "    Arguments:\n",
        "        None\n",
        "    Returns:\n",
        "        next learning rate\n",
        "    \"\"\"\n",
        "    start_lr = 0.00001\n",
        "    min_lr = 0.00001\n",
        "    max_lr = 0.00005*8\n",
        "    rampup_epochs = 5\n",
        "    sustain_epochs = 0\n",
        "    exp_decay = .8\n",
        "\n",
        "    if epoch < rampup_epochs :\n",
        "        return (max_lr - start_lr)/rampup_epochs*epoch + start_lr\n",
        "    elif epoch < rampup_epochs + sustain_epochs :\n",
        "        return max_lr\n",
        "    else:\n",
        "        return (max_lr - min_lr) * exp_decay ** (epoch - rampup_epochs - sustain_epochs) + min_lr\n",
        "\n",
        "lr_callback = tf.keras.callbacks.LearningRateScheduler(lambda epoch:lrfn(epoch), verbose=True)\n"
      ],
      "execution_count": null,
      "outputs": []
    },
    {
      "cell_type": "code",
      "metadata": {
        "id": "BYVSgOl2fo2c",
        "colab_type": "code",
        "colab": {}
      },
      "source": [
        "\"\"\"\n",
        "https://keras.io/api/applications/efficientnet/#efficientnetb1-function\n",
        "Create pretrained model as follows:\n",
        "EfficientNetB1, include_top=False, input_shape=(32, 32, 3), pooling=\"avg\", trainable=False\n",
        "Dropout, 0.42\n",
        "Dense, 256, tanh\n",
        "Dropout, 0.42\n",
        "Dense, 128, tanh\n",
        "Dense, 10, softmax\n",
        "\n",
        "Code sample: https://codelabs.developers.google.com/codelabs/keras-flowers-transfer-learning/#3\n",
        "https://ai.googleblog.com/2019/05/efficientnet-improving-accuracy-and.html\n",
        "\"\"\"\n",
        "def create_pretrained_model():\n",
        "    model = None\n",
        "    model.compile(loss=\"sparse_categorical_crossentropy\", optimizer=\"adam\", metrics=[\"accuracy\"])\n",
        "    return model\n",
        "pretrained = create_pretrained_model()\n",
        "pretrained.summary()\n"
      ],
      "execution_count": null,
      "outputs": []
    },
    {
      "cell_type": "code",
      "metadata": {
        "id": "EXZ7pdS6f2Ry",
        "colab_type": "code",
        "colab": {}
      },
      "source": [
        "# Train the model, recall that epochs=50\n",
        "history = pretrained.fit(X_train, Y_train, batch_size=32, epochs=epochs, \n",
        "                        validation_data=(X_valid, Y_valid), callbacks=[early_stop, lr_callback])"
      ],
      "execution_count": null,
      "outputs": []
    },
    {
      "cell_type": "code",
      "metadata": {
        "id": "nC-RLeIrhKWW",
        "colab_type": "code",
        "colab": {}
      },
      "source": [
        "eval_pretrained = pretrained.evaluate(x_test, y_test)"
      ],
      "execution_count": null,
      "outputs": []
    },
    {
      "cell_type": "markdown",
      "metadata": {
        "id": "rGsZlmn-EB3T",
        "colab_type": "text"
      },
      "source": [
        "## Tune the hyperparameters to match your desired output\n",
        "### Next task: create the model to predict CIFAR 100 dataset."
      ]
    },
    {
      "cell_type": "code",
      "metadata": {
        "id": "ENhPzOWxEGOG",
        "colab_type": "code",
        "colab": {}
      },
      "source": [
        "import tensorflow as tf\n",
        "(x_train_cif100, y_train_cif100), (x_test_cif100, y_test_cif100) = tf.keras.datasets.cifar100.load_data()"
      ],
      "execution_count": null,
      "outputs": []
    },
    {
      "cell_type": "code",
      "metadata": {
        "id": "ZjxRhmmUE20w",
        "colab_type": "code",
        "colab": {}
      },
      "source": [
        "cif100_classes = ['apple', 'aquarium_fish', 'baby', 'bear', 'beaver', 'bed', 'bee', 'beetle', 'bicycle', 'bottle', 'bowl', 'boy', 'bridge', 'bus', 'butterfly', \n",
        "                    'camel', 'can', 'castle', 'caterpillar', 'cattle', 'chair', 'chimpanzee', 'clock', 'cloud', 'cockroach', 'couch', 'crab', 'crocodile', 'cup', \n",
        "                    'dinosaur', 'dolphin', 'elephant', 'flatfish', 'forest', 'fox', 'girl', 'hamster', 'house', 'kangaroo', 'computer_keyboard', \n",
        "                    'lamp', 'lawn_mower', 'leopard', 'lion', 'lizard', 'lobster', 'man', 'maple_tree', 'motorcycle', 'mountain', 'mouse', 'mushroom', \n",
        "                    'oak_tree', 'orange', 'orchid', 'otter', 'palm_tree', 'pear', 'pickup_truck', 'pine_tree', 'plain', 'plate', 'poppy', 'porcupine', 'possum', \n",
        "                    'rabbit', 'raccoon', 'ray', 'road', 'rocket', 'rose', 'sea', 'seal', 'shark', 'shrew', 'skunk', 'skyscraper', 'snail', 'snake', 'spider', 'squirrel', \n",
        "                  'streetcar', 'sunflower', 'sweet_pepper', 'table', 'tank', 'telephone', 'television', 'tiger', 'tractor', 'train', 'trout', 'tulip', 'turtle', \n",
        "                    'wardrobe', 'whale', 'willow_tree', 'wolf', 'woman', 'worm']"
      ],
      "execution_count": null,
      "outputs": []
    },
    {
      "cell_type": "code",
      "metadata": {
        "id": "dTFEacynE5kF",
        "colab_type": "code",
        "colab": {}
      },
      "source": [
        "# Show the image with the corresponding label\n",
        "import matplotlib.pyplot as plt\n",
        "\n",
        "plt.figure(figsize=(10,10))\n",
        "for i in range(36): # Plot 36 images\n",
        "    plt.subplot(6,6,i+1)\n",
        "    plt.xticks([])\n",
        "    plt.yticks([])\n",
        "    plt.grid(False)\n",
        "    # START CODE HERE\n",
        "    plt.imshow(x_train_cif100[i], cmap=plt.cm.binary) \n",
        "    plt.xlabel(cif100_classes[y_train_cif100[i][0]])\n",
        "    # END CODE HERE\n",
        "plt.show()"
      ],
      "execution_count": null,
      "outputs": []
    },
    {
      "cell_type": "code",
      "metadata": {
        "id": "F50JYsjmFIQ5",
        "colab_type": "code",
        "colab": {}
      },
      "source": [
        "\"\"\"\n",
        "ImageDataGenerator: use generator to train the model. After the input is given, it will be deleted to save space.\n",
        "IDG also supports image augmentation.\n",
        "IDG prevents RAM overflow if converting from image to numpy is space-consuming\n",
        "\"\"\"\n",
        "from tensorflow.keras.preprocessing.image import ImageDataGenerator\n",
        "\n",
        "datagen = ImageDataGenerator(rescale=1./255, zca_whitening=True, \n",
        "                             horizontal_flip=True, vertical_flip=True, validation_split=0.2)\n",
        "datagen.fit(x_train_cif100)"
      ],
      "execution_count": null,
      "outputs": []
    },
    {
      "cell_type": "code",
      "metadata": {
        "id": "SxVm_ZsVHLcr",
        "colab_type": "code",
        "colab": {}
      },
      "source": [
        "train_flow = datagen.flow(x_train_cif100, y_train_cif100, batch_size = 32, subset=\"training\")\n",
        "valid_flow = datagen.flow(x_train_cif100, y_train_cif100, batch_size = 32, subset=\"validation\")"
      ],
      "execution_count": null,
      "outputs": []
    },
    {
      "cell_type": "code",
      "metadata": {
        "id": "G2MVP3PeHjpM",
        "colab_type": "code",
        "colab": {}
      },
      "source": [
        "def create_cif100_model():\n",
        "    # Create your model here\n",
        "    model = None\n",
        "    model.compile(loss=\"sparse_categorical_crossentropy\", optimizer=\"adam\", metrics=[\"accuracy\"])\n",
        "    return model\n",
        "\n",
        "model_cif100 = create_cif100_model()\n",
        "model_cif100.summary()"
      ],
      "execution_count": null,
      "outputs": []
    },
    {
      "cell_type": "code",
      "metadata": {
        "id": "5K7NlGmBpsDC",
        "colab_type": "code",
        "colab": {}
      },
      "source": [
        "def lrfn(epoch):\n",
        "    \"\"\"\n",
        "    Learning rate callback, to maintain good lr but do not destroy the pretrained work\n",
        "\n",
        "    Arguments:\n",
        "        None\n",
        "    Returns:\n",
        "        next learning rate\n",
        "    \"\"\"\n",
        "    start_lr = 0.00001\n",
        "    min_lr = 0.00001\n",
        "    max_lr = 0.00005*8\n",
        "    rampup_epochs = 5\n",
        "    sustain_epochs = 0\n",
        "    exp_decay = .8\n",
        "\n",
        "    if epoch < rampup_epochs :\n",
        "        return (max_lr - start_lr)/rampup_epochs*epoch + start_lr\n",
        "    elif epoch < rampup_epochs + sustain_epochs :\n",
        "        return max_lr\n",
        "    else:\n",
        "        return (max_lr - min_lr) * exp_decay ** (epoch - rampup_epochs - sustain_epochs) + min_lr"
      ],
      "execution_count": null,
      "outputs": []
    },
    {
      "cell_type": "code",
      "metadata": {
        "id": "-WIjHI1_H1jW",
        "colab_type": "code",
        "colab": {}
      },
      "source": [
        "\"\"\"\n",
        "EarlyStopping callback: if after n=(epochs//10), the monitor value does not increase, stop training\n",
        "LearningRateScheduler: change learning rate bases on current epoch\n",
        "ModelCheckpoint: save model after each epoch, but only keep the best (bases on monitor value)\n",
        "\"\"\"\n",
        "\n",
        "epochs = 100\n",
        "early_stop = tf.keras.callbacks.EarlyStopping(monitor=\"val_accuracy\", \n",
        "                                              patience=epochs//10, restore_best_weights=True)\n",
        "lr_callback = tf.keras.callbacks.LearningRateScheduler(lambda epoch:lrfn(epoch),\n",
        "                                                       verbose=True) # Optional, if use Transfer learning\n",
        "model_cp = tf.keras.callbacks.ModelCheckpoint(\"weight_model_cp.h5\", monitor=\"val_loss\", save_best_only=True)"
      ],
      "execution_count": null,
      "outputs": []
    },
    {
      "cell_type": "code",
      "metadata": {
        "id": "mKqSxfqVHuca",
        "colab_type": "code",
        "colab": {}
      },
      "source": [
        "history = model_cif100.fit(train_flow, epochs=100, validation_data=valid_flow, callbacks=[early_stop, lr_callback, model_cp])"
      ],
      "execution_count": null,
      "outputs": []
    },
    {
      "cell_type": "code",
      "metadata": {
        "id": "2MPCC8LqIb59",
        "colab_type": "code",
        "colab": {}
      },
      "source": [
        "# Plot accuracy vs epoch\n",
        "plt.plot(history.history['accuracy'])\n",
        "plt.plot(history.history['val_accuracy'])\n",
        "plt.title('Model accuracy')\n",
        "plt.ylabel('Accuracy')\n",
        "plt.xlabel('Epoch')\n",
        "plt.legend(['train', 'val'], loc='upper left')"
      ],
      "execution_count": null,
      "outputs": []
    },
    {
      "cell_type": "code",
      "metadata": {
        "id": "alfc-RGlIeYD",
        "colab_type": "code",
        "colab": {}
      },
      "source": [
        "# Plot loss vs epoch\n",
        "plt.plot(history.history['loss'])\n",
        "plt.plot(history.history['val_loss'])\n",
        "plt.title('Model loss')\n",
        "plt.ylabel('Loss')\n",
        "plt.xlabel('Epoch')\n",
        "plt.legend(['train', 'val'], loc='upper left')"
      ],
      "execution_count": null,
      "outputs": []
    },
    {
      "cell_type": "code",
      "metadata": {
        "id": "WFOoIzMIIQia",
        "colab_type": "code",
        "colab": {}
      },
      "source": [
        "test_datagen = ImageDataGenerator(rescale=1./255)\n",
        "test_datagen.fit(x_test_cif100)\n",
        "test_flow = datagen.flow(x_test, y_test, batch_size=32)"
      ],
      "execution_count": null,
      "outputs": []
    },
    {
      "cell_type": "code",
      "metadata": {
        "id": "DLLG92hdIzcY",
        "colab_type": "code",
        "colab": {}
      },
      "source": [
        "# Global leaderboard: https://paperswithcode.com/sota/image-classification-on-cifar-100\n",
        "prediction = model_cif100.evaluate(test_flow, steps=len(x_test_cif100)/32)"
      ],
      "execution_count": null,
      "outputs": []
    }
  ]
}